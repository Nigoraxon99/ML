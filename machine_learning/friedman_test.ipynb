{
 "cells": [
  {
   "cell_type": "code",
   "execution_count": 1,
   "id": "c0c31823-6374-4ecd-a301-249c61953f59",
   "metadata": {
    "collapsed": true,
    "jupyter": {
     "outputs_hidden": true
    },
    "tags": []
   },
   "outputs": [
    {
     "name": "stdout",
     "output_type": "stream",
     "text": [
      "Collecting scikit-posthocs\n",
      "  Downloading scikit_posthocs-0.7.0-py3-none-any.whl (38 kB)\n",
      "Requirement already satisfied: numpy in /Users/nigorakhonganieva/miniforge3/envs/data-science/lib/python3.9/site-packages (from scikit-posthocs) (1.24.2)\n",
      "Requirement already satisfied: seaborn in /Users/nigorakhonganieva/miniforge3/envs/data-science/lib/python3.9/site-packages (from scikit-posthocs) (0.12.2)\n",
      "Collecting statsmodels\n",
      "  Downloading statsmodels-0.14.0-cp39-cp39-macosx_11_0_arm64.whl (9.4 MB)\n",
      "\u001b[2K     \u001b[90m━━━━━━━━━━━━━━━━━━━━━━━━━━━━━━━━━━━━━━━━\u001b[0m \u001b[32m9.4/9.4 MB\u001b[0m \u001b[31m25.7 MB/s\u001b[0m eta \u001b[36m0:00:00\u001b[0m00:01\u001b[0m00:01\u001b[0m\n",
      "\u001b[?25hRequirement already satisfied: pandas>=0.20.0 in /Users/nigorakhonganieva/miniforge3/envs/data-science/lib/python3.9/site-packages (from scikit-posthocs) (1.5.3)\n",
      "Requirement already satisfied: scipy in /Users/nigorakhonganieva/miniforge3/envs/data-science/lib/python3.9/site-packages (from scikit-posthocs) (1.10.1)\n",
      "Requirement already satisfied: matplotlib in /Users/nigorakhonganieva/miniforge3/envs/data-science/lib/python3.9/site-packages (from scikit-posthocs) (3.7.1)\n",
      "Requirement already satisfied: pytz>=2020.1 in /Users/nigorakhonganieva/miniforge3/envs/data-science/lib/python3.9/site-packages (from pandas>=0.20.0->scikit-posthocs) (2022.7.1)\n",
      "Requirement already satisfied: python-dateutil>=2.8.1 in /Users/nigorakhonganieva/miniforge3/envs/data-science/lib/python3.9/site-packages (from pandas>=0.20.0->scikit-posthocs) (2.8.2)\n",
      "Requirement already satisfied: kiwisolver>=1.0.1 in /Users/nigorakhonganieva/miniforge3/envs/data-science/lib/python3.9/site-packages (from matplotlib->scikit-posthocs) (1.4.4)\n",
      "Requirement already satisfied: fonttools>=4.22.0 in /Users/nigorakhonganieva/miniforge3/envs/data-science/lib/python3.9/site-packages (from matplotlib->scikit-posthocs) (4.39.3)\n",
      "Requirement already satisfied: packaging>=20.0 in /Users/nigorakhonganieva/miniforge3/envs/data-science/lib/python3.9/site-packages (from matplotlib->scikit-posthocs) (23.0)\n",
      "Requirement already satisfied: pillow>=6.2.0 in /Users/nigorakhonganieva/miniforge3/envs/data-science/lib/python3.9/site-packages (from matplotlib->scikit-posthocs) (9.5.0)\n",
      "Requirement already satisfied: pyparsing>=2.3.1 in /Users/nigorakhonganieva/miniforge3/envs/data-science/lib/python3.9/site-packages (from matplotlib->scikit-posthocs) (3.0.9)\n",
      "Requirement already satisfied: importlib-resources>=3.2.0 in /Users/nigorakhonganieva/miniforge3/envs/data-science/lib/python3.9/site-packages (from matplotlib->scikit-posthocs) (5.12.0)\n",
      "Requirement already satisfied: contourpy>=1.0.1 in /Users/nigorakhonganieva/miniforge3/envs/data-science/lib/python3.9/site-packages (from matplotlib->scikit-posthocs) (1.0.7)\n",
      "Requirement already satisfied: cycler>=0.10 in /Users/nigorakhonganieva/miniforge3/envs/data-science/lib/python3.9/site-packages (from matplotlib->scikit-posthocs) (0.11.0)\n",
      "Collecting patsy>=0.5.2\n",
      "  Downloading patsy-0.5.3-py2.py3-none-any.whl (233 kB)\n",
      "\u001b[2K     \u001b[90m━━━━━━━━━━━━━━━━━━━━━━━━━━━━━━━━━━━━━━\u001b[0m \u001b[32m233.8/233.8 kB\u001b[0m \u001b[31m21.2 MB/s\u001b[0m eta \u001b[36m0:00:00\u001b[0m\n",
      "\u001b[?25hRequirement already satisfied: zipp>=3.1.0 in /Users/nigorakhonganieva/miniforge3/envs/data-science/lib/python3.9/site-packages (from importlib-resources>=3.2.0->matplotlib->scikit-posthocs) (3.15.0)\n",
      "Requirement already satisfied: six in /Users/nigorakhonganieva/miniforge3/envs/data-science/lib/python3.9/site-packages (from patsy>=0.5.2->statsmodels->scikit-posthocs) (1.16.0)\n",
      "Installing collected packages: patsy, statsmodels, scikit-posthocs\n",
      "Successfully installed patsy-0.5.3 scikit-posthocs-0.7.0 statsmodels-0.14.0\n",
      "Note: you may need to restart the kernel to use updated packages.\n"
     ]
    }
   ],
   "source": [
    "pip install scikit-posthocs"
   ]
  },
  {
   "cell_type": "code",
   "execution_count": 10,
   "id": "967c25a7-b55f-436b-8130-1621a2e6f90f",
   "metadata": {},
   "outputs": [
    {
     "name": "stdout",
     "output_type": "stream",
     "text": [
      "Friedman test p-value: 0.0005581683746844981\n"
     ]
    }
   ],
   "source": [
    "import numpy as np\n",
    "import pandas as pd\n",
    "from scipy.stats import friedmanchisquare\n",
    "from scikit_posthocs import posthoc_nemenyi\n",
    "import matplotlib.pyplot as plt\n",
    "\n",
    "# Create a DataFrame with the data\n",
    "data = {\n",
    "    'A': [19.119, 17.773, 19.780, 16.841, 18.782],\n",
    "    'B': [17.200, 16.389, 17.715, 16.367, 16.820],\n",
    "    'C': [22.692, 23.267, 24.193, 23.162, 23.210],\n",
    "    'D': [18.927, 17.695, 18.776, 16.824, 18.779],\n",
    "    'E': [17.199, 16.381, 17.715, 16.367, 16.796]\n",
    "}\n",
    "\n",
    "df = pd.DataFrame(data)\n",
    "df['Groups'] = df.index + 1  # I added a column with group labels\n",
    "df = pd.melt(df, id_vars='Groups', var_name='Experiment', value_name='Values')\n",
    "\n",
    "# Friedman test\n",
    "stat, p_value = friedmanchisquare(*df['Values'].values.reshape(5, -1))\n",
    "print(\"Friedman test p-value:\", p_value)"
   ]
  },
  {
   "cell_type": "code",
   "execution_count": 11,
   "id": "1508f5f5-3041-4bb6-a9e1-eda1fc25ea64",
   "metadata": {},
   "outputs": [
    {
     "name": "stdout",
     "output_type": "stream",
     "text": [
      "Nemenyi post hoc p-values:\n",
      "           1         2         3         4         5\n",
      "1  1.000000  0.936456  0.998320  0.639392  0.995987\n",
      "2  0.936456  1.000000  0.817069  0.976078  0.994199\n",
      "3  0.998320  0.817069  1.000000  0.442142  0.963218\n",
      "4  0.639392  0.976078  0.442142  1.000000  0.853373\n",
      "5  0.995987  0.994199  0.963218  0.853373  1.000000\n"
     ]
    },
    {
     "data": {
      "image/png": "[encoded data removed]",
      "text/plain": [
       "<Figure size 576x432 with 1 Axes>"
      ]
     },
     "metadata": {
      "needs_background": "light"
     },
     "output_type": "display_data"
    }
   ],
   "source": [
    "# The p-value=0.0005581683746844981 is less than the significance level (α=0.05)\n",
    "# so, I will proceed to perform the Nemenyi post hoc test to find significant differences\n",
    "posthoc = posthoc_nemenyi(df, val_col=\"Values\", group_col=\"Groups\")\n",
    "print(\"Nemenyi post hoc p-values:\\n\", posthoc)\n",
    "\n",
    "# critical difference (CD) CD = q * sqrt(k(k + 1) / (6N))\n",
    "# k is the number of groups, and N is the number of samples\n",
    "k = len(df['Groups'].unique())\n",
    "N = len(df)\n",
    "q_values = [0.82, 0.97, 1.12, 1.24, 1.41]\n",
    "\n",
    "CDs = [q * np.sqrt(k * (k + 1) / (6 * len(df))) for q, k in zip(q_values, range(1, 6))]\n",
    "\n",
    "# CD plot\n",
    "plt.figure(figsize=(8, 6))\n",
    "plt.barh(y=range(len(CDs)), width=CDs, color='r', alpha=0.5)\n",
    "plt.yticks(range(len(CDs)), df['Groups'].unique())\n",
    "plt.xlabel(\"Critical Difference (CD)\")\n",
    "plt.title(\"Critical Difference Plot\")\n",
    "plt.grid(axis='x')\n",
    "plt.show()"
   ]
  },
  {
   "cell_type": "code",
   "execution_count": null,
   "id": "58b3151b-7768-4519-998d-2cbf72b0711b",
   "metadata": {},
   "outputs": [],
   "source": []
  }
 ],
 "metadata": {
  "kernelspec": {
   "display_name": "Python 3",
   "language": "python",
   "name": "python3"
  },
  "language_info": {
   "codemirror_mode": {
    "name": "ipython",
    "version": 3
   },
   "file_extension": ".py",
   "mimetype": "text/x-python",
   "name": "python",
   "nbconvert_exporter": "python",
   "pygments_lexer": "ipython3",
   "version": "3.9.16"
  }
 },
 "nbformat": 4,
 "nbformat_minor": 5
}
