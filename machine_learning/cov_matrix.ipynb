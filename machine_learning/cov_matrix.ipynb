{
 "cells": [
  {
   "cell_type": "code",
   "execution_count": 4,
   "id": "4356af04-1aea-430b-ad19-74fc2d498d1a",
   "metadata": {},
   "outputs": [
    {
     "name": "stdout",
     "output_type": "stream",
     "text": [
      "Mean Vector:\n",
      "[167.375  61.      3.4  ]\n",
      "Covariance Matrix:\n",
      "[[33.69642857 39.42857143  0.37142857]\n",
      " [39.42857143 60.85714286 -0.94285714]\n",
      " [ 0.37142857 -0.94285714  0.26285714]]\n"
     ]
    }
   ],
   "source": [
    "import numpy as np\n",
    "\n",
    "height = np.array([170, 165, 174, 169, 155, 172, 166, 168])\n",
    "weight = np.array([60, 55, 75, 67, 49, 63, 58, 61])\n",
    "GPA = np.array([4.1, 3.0, 2.8, 2.9, 3.1, 3.6, 3.7, 4.0])\n",
    "\n",
    "# Calculate the mean vector\n",
    "mean_vector = np.mean(np.array([height, weight, GPA]), axis=1)\n",
    "\n",
    "# Calculate the covariance matrix\n",
    "covariance_matrix = np.cov(np.array([height, weight, GPA]))\n",
    "\n",
    "print(\"Mean Vector:\")\n",
    "print(mean_vector)\n",
    "\n",
    "print(\"Covariance Matrix:\")\n",
    "print(covariance_matrix)"
   ]
  },
  {
   "cell_type": "code",
   "execution_count": null,
   "id": "22224ee1-4b3b-431a-8d54-33e7019770d0",
   "metadata": {},
   "outputs": [],
   "source": []
  }
 ],
 "metadata": {
  "kernelspec": {
   "display_name": "Python 3",
   "language": "python",
   "name": "python3"
  },
  "language_info": {
   "codemirror_mode": {
    "name": "ipython",
    "version": 3
   },
   "file_extension": ".py",
   "mimetype": "text/x-python",
   "name": "python",
   "nbconvert_exporter": "python",
   "pygments_lexer": "ipython3",
   "version": "3.9.16"
  }
 },
 "nbformat": 4,
 "nbformat_minor": 5
}
