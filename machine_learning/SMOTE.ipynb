{
 "cells": [
  {
   "cell_type": "code",
   "execution_count": 2,
   "id": "b2dda8e8-c4b6-4f65-b863-229b61a8afa9",
   "metadata": {
    "collapsed": true,
    "jupyter": {
     "outputs_hidden": true
    },
    "tags": []
   },
   "outputs": [
    {
     "name": "stdout",
     "output_type": "stream",
     "text": [
      "Collecting imblearn\n",
      "  Downloading imblearn-0.0-py2.py3-none-any.whl (1.9 kB)\n",
      "Collecting imbalanced-learn\n",
      "  Downloading imbalanced_learn-0.11.0-py3-none-any.whl (235 kB)\n",
      "\u001b[2K     \u001b[90m━━━━━━━━━━━━━━━━━━━━━━━━━━━━━━━━━━━━━━━\u001b[0m \u001b[32m235.6/235.6 kB\u001b[0m \u001b[31m3.2 MB/s\u001b[0m eta \u001b[36m0:00:00\u001b[0ma \u001b[36m0:00:01\u001b[0m\n",
      "\u001b[?25hRequirement already satisfied: joblib>=1.1.1 in /Users/nigorakhonganieva/miniforge3/envs/data-science/lib/python3.9/site-packages (from imbalanced-learn->imblearn) (1.2.0)\n",
      "Requirement already satisfied: numpy>=1.17.3 in /Users/nigorakhonganieva/miniforge3/envs/data-science/lib/python3.9/site-packages (from imbalanced-learn->imblearn) (1.24.2)\n",
      "Requirement already satisfied: scikit-learn>=1.0.2 in /Users/nigorakhonganieva/miniforge3/envs/data-science/lib/python3.9/site-packages (from imbalanced-learn->imblearn) (1.2.2)\n",
      "Requirement already satisfied: threadpoolctl>=2.0.0 in /Users/nigorakhonganieva/miniforge3/envs/data-science/lib/python3.9/site-packages (from imbalanced-learn->imblearn) (3.1.0)\n",
      "Requirement already satisfied: scipy>=1.5.0 in /Users/nigorakhonganieva/miniforge3/envs/data-science/lib/python3.9/site-packages (from imbalanced-learn->imblearn) (1.10.1)\n",
      "Installing collected packages: imbalanced-learn, imblearn\n",
      "Successfully installed imbalanced-learn-0.11.0 imblearn-0.0\n",
      "Note: you may need to restart the kernel to use updated packages.\n"
     ]
    }
   ],
   "source": [
    "pip install imblearn"
   ]
  },
  {
   "cell_type": "code",
   "execution_count": 11,
   "id": "c7961e2b-672e-424c-b5ae-15f8a5822478",
   "metadata": {},
   "outputs": [],
   "source": [
    "import numpy as np\n",
    "import pandas as pd\n",
    "from sklearn.tree import DecisionTreeClassifier\n",
    "from sklearn.svm import SVC\n",
    "from imblearn.under_sampling import RandomUnderSampler\n",
    "from imblearn.over_sampling import RandomOverSampler, SMOTE, ADASYN\n",
    "from imblearn.over_sampling import BorderlineSMOTE\n",
    "from sklearn.model_selection import train_test_split\n",
    "from sklearn.metrics import accuracy_score\n",
    "\n",
    "# Load the ARFF file using scipy.io.arff\n",
    "from scipy.io import arff\n",
    "data, meta = arff.loadarff('polish_data/5year.arff')\n",
    "df = pd.DataFrame(data)\n",
    "df = df.dropna()\n",
    "\n",
    "# Separating features (X) and target variable (y)\n",
    "X = df.iloc[:, :-1]\n",
    "y = df.iloc[:, -1].astype(int)"
   ]
  },
  {
   "cell_type": "code",
   "execution_count": 12,
   "id": "f118ffc6-1dbd-4ec8-8a2b-842c43aac27b",
   "metadata": {},
   "outputs": [
    {
     "name": "stdout",
     "output_type": "stream",
     "text": [
      "SVM model prediction using Undersampling [0 0 1 1 1 0 1 0 1 0 1 1 1 1 1 1 0 0 0 1 1 0 1 0 1 0 0 0 1 1 1 0 1 0 1 0 0\n",
      " 1 0 0 0]\n",
      "SVM model accuracy score 0.7073170731707317\n"
     ]
    }
   ],
   "source": [
    "# Random Undersampling\n",
    "# I performed Random UnderSampling to generate the balanced data \n",
    "# and train Decision Tree, and SVM Models.\n",
    "\n",
    "rus = RandomUnderSampler()\n",
    "X_rus, y_rus = rus.fit_resample(X, y)\n",
    "\n",
    "# Split data into training and testing sets\n",
    "X_train, X_test, y_train, y_test = train_test_split(X_rus, y_rus, test_size=0.2, random_state=42)\n",
    "\n",
    "# Train Decision Tree and SVM models on undersampled data\n",
    "dt_model = DecisionTreeClassifier()\n",
    "dt_model.fit(X_train, y_train)\n",
    "y_pred = dt_model.predict(X_test)\n",
    "accuracy_dt = accuracy_score(y_test, y_pred)\n",
    "\n",
    "svm_model = SVC()\n",
    "svm_model.fit(X_train, y_train)\n",
    "y_pred = svm_model.predict(X_test)\n",
    "accuracy_svm = accuracy_score(y_test, y_pred)\n",
    "print(f'SVM model prediction using Undersampling', y_pred)\n",
    "print(f'SVM model accuracy score', accuracy_svm)"
   ]
  },
  {
   "cell_type": "code",
   "execution_count": 13,
   "id": "6e31191b-9a7a-444d-a66e-4ca8696ff72c",
   "metadata": {},
   "outputs": [
    {
     "name": "stdout",
     "output_type": "stream",
     "text": [
      "SVM model prediction using Oversampling [1 1 1 ... 0 1 1]\n",
      "SVM model accuracy score 0.7073378839590444\n"
     ]
    }
   ],
   "source": [
    "# Random Oversampling\n",
    "# I performed Random OverSampling to generate the balanced data \n",
    "# and train Decision Tree, and SVM Models.\n",
    "ros = RandomOverSampler()\n",
    "X_ros, y_ros = ros.fit_resample(X, y)\n",
    "\n",
    "# Split data into training and testing sets\n",
    "X_train, X_test, y_train, y_test = train_test_split(X_ros, y_ros, test_size=0.2, random_state=42)\n",
    "\n",
    "# Train Decision Tree and SVM models on oversampled data\n",
    "dt_model = DecisionTreeClassifier()\n",
    "dt_model.fit(X_train, y_train)\n",
    "y_pred = dt_model.predict(X_test)\n",
    "accuracy_dt = accuracy_score(y_test, y_pred)\n",
    "\n",
    "svm_model = SVC()\n",
    "svm_model.fit(X_train, y_train)\n",
    "y_pred = svm_model.predict(X_test)\n",
    "accuracy_svm = accuracy_score(y_test, y_pred)\n",
    "print(f'SVM model prediction using Oversampling', y_pred)\n",
    "print(f'SVM model accuracy score', accuracy_svm)"
   ]
  },
  {
   "cell_type": "code",
   "execution_count": 14,
   "id": "8a7e27cc-1984-4aef-913a-2a1c8d8e79c5",
   "metadata": {},
   "outputs": [
    {
     "name": "stdout",
     "output_type": "stream",
     "text": [
      "SVM model prediction using SMOTE [1 0 1 ... 0 1 1]\n",
      "SVM model accuracy score 0.7141638225255973\n"
     ]
    }
   ],
   "source": [
    "# SMOTE\n",
    "# I performed SMOTE to generate the balanced data and train Decision\n",
    "# Tree, and SVM Models.\n",
    "smote = SMOTE()\n",
    "X_smote, y_smote = smote.fit_resample(X, y)\n",
    "\n",
    "# Split data into training and testing sets\n",
    "X_train, X_test, y_train, y_test = train_test_split(X_smote, y_smote, test_size=0.2, random_state=42)\n",
    "\n",
    "# Train Decision Tree and SVM models on SMOTE data\n",
    "dt_model = DecisionTreeClassifier()\n",
    "dt_model.fit(X_train, y_train)\n",
    "y_pred = dt_model.predict(X_test)\n",
    "accuracy_dt = accuracy_score(y_test, y_pred)\n",
    "\n",
    "svm_model = SVC()\n",
    "svm_model.fit(X_train, y_train)\n",
    "y_pred = svm_model.predict(X_test)\n",
    "accuracy_svm = accuracy_score(y_test, y_pred)\n",
    "print(f'SVM model prediction using SMOTE', y_pred)\n",
    "print(f'SVM model accuracy score', accuracy_svm)"
   ]
  },
  {
   "cell_type": "code",
   "execution_count": 15,
   "id": "007c047f-b83a-4265-bab6-32b6692878f4",
   "metadata": {},
   "outputs": [
    {
     "name": "stdout",
     "output_type": "stream",
     "text": [
      "SVM model prediction using Borderline-SMOTE [1 1 0 ... 0 1 0]\n",
      "SVM model accuracy score 0.8122866894197952\n"
     ]
    }
   ],
   "source": [
    "# Borderline-SMOTE\n",
    "bsmote = BorderlineSMOTE()\n",
    "X_bsmote, y_bsmote = bsmote.fit_resample(X, y)\n",
    "\n",
    "# Split data into training and testing sets\n",
    "X_train, X_test, y_train, y_test = train_test_split(X_bsmote, y_bsmote, test_size=0.2, random_state=42)\n",
    "\n",
    "# Train Decision Tree and SVM models on Borderline-SMOTE data\n",
    "dt_model = DecisionTreeClassifier()\n",
    "dt_model.fit(X_train, y_train)\n",
    "y_pred = dt_model.predict(X_test)\n",
    "accuracy_dt = accuracy_score(y_test, y_pred)\n",
    "\n",
    "svm_model = SVC()\n",
    "svm_model.fit(X_train, y_train)\n",
    "y_pred = svm_model.predict(X_test)\n",
    "accuracy_svm = accuracy_score(y_test, y_pred)\n",
    "print(f'SVM model prediction using Borderline-SMOTE', y_pred)\n",
    "print(f'SVM model accuracy score', accuracy_svm)"
   ]
  },
  {
   "cell_type": "code",
   "execution_count": 16,
   "id": "ad7a2db6-f6fd-4b4e-94d5-c746a144f2eb",
   "metadata": {},
   "outputs": [
    {
     "name": "stdout",
     "output_type": "stream",
     "text": [
      "SVM model prediction using ADASYN [0 1 1 ... 1 1 0]\n",
      "SVM model accuracy score 0.68808911739503\n"
     ]
    }
   ],
   "source": [
    "# ADASYN\n",
    "adasyn = ADASYN()\n",
    "X_adasyn, y_adasyn = adasyn.fit_resample(X, y)\n",
    "\n",
    "# Split data into training and testing sets\n",
    "X_train, X_test, y_train, y_test = train_test_split(X_adasyn, y_adasyn, test_size=0.2, random_state=42)\n",
    "\n",
    "# Train Decision Tree and SVM models on ADASYN data\n",
    "dt_model = DecisionTreeClassifier()\n",
    "dt_model.fit(X_train, y_train)\n",
    "y_pred = dt_model.predict(X_test)\n",
    "accuracy_dt = accuracy_score(y_test, y_pred)\n",
    "\n",
    "svm_model = SVC()\n",
    "svm_model.fit(X_train, y_train)\n",
    "y_pred = svm_model.predict(X_test)\n",
    "accuracy_svm = accuracy_score(y_test, y_pred)\n",
    "print(f'SVM model prediction using ADASYN', y_pred)\n",
    "print(f'SVM model accuracy score', accuracy_svm)"
   ]
  },
  {
   "cell_type": "code",
   "execution_count": null,
   "id": "1ae39f58-16de-4091-9b0a-08daef4979e5",
   "metadata": {},
   "outputs": [],
   "source": []
  }
 ],
 "metadata": {
  "kernelspec": {
   "display_name": "Python 3",
   "language": "python",
   "name": "python3"
  },
  "language_info": {
   "codemirror_mode": {
    "name": "ipython",
    "version": 3
   },
   "file_extension": ".py",
   "mimetype": "text/x-python",
   "name": "python",
   "nbconvert_exporter": "python",
   "pygments_lexer": "ipython3",
   "version": "3.9.16"
  }
 },
 "nbformat": 4,
 "nbformat_minor": 5
}
